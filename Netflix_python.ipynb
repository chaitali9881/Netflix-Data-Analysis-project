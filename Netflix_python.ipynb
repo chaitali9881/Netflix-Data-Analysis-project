{
 "cells": [
  {
   "cell_type": "code",
   "execution_count": 2,
   "id": "a87bdd64-9a99-4972-8a56-6e543c89a05d",
   "metadata": {},
   "outputs": [],
   "source": [
    "import pandas as pd\n",
    "import numpy as np\n",
    "import seaborn as sns\n",
    "import matplotlib.pyplot as plt"
   ]
  },
  {
   "cell_type": "code",
   "execution_count": 57,
   "id": "6719374a-b4ce-4864-a911-31207bdd2cd7",
   "metadata": {},
   "outputs": [],
   "source": [
    "df = pd.read_csv('Netflix_Data.csv', encoding='ISO-8859-1')"
   ]
  },
  {
   "cell_type": "code",
   "execution_count": 58,
   "id": "e6d63bcc-a404-470f-8074-0fcd0a18aa5d",
   "metadata": {},
   "outputs": [
    {
     "data": {
      "text/html": [
       "<div>\n",
       "<style scoped>\n",
       "    .dataframe tbody tr th:only-of-type {\n",
       "        vertical-align: middle;\n",
       "    }\n",
       "\n",
       "    .dataframe tbody tr th {\n",
       "        vertical-align: top;\n",
       "    }\n",
       "\n",
       "    .dataframe thead th {\n",
       "        text-align: right;\n",
       "    }\n",
       "</style>\n",
       "<table border=\"1\" class=\"dataframe\">\n",
       "  <thead>\n",
       "    <tr style=\"text-align: right;\">\n",
       "      <th></th>\n",
       "      <th>id</th>\n",
       "      <th>title</th>\n",
       "      <th>type</th>\n",
       "      <th>release_year</th>\n",
       "      <th>age_certification</th>\n",
       "      <th>runtime</th>\n",
       "      <th>genres</th>\n",
       "      <th>production_countries</th>\n",
       "      <th>seasons</th>\n",
       "      <th>imdb_id</th>\n",
       "      <th>imdb_score</th>\n",
       "      <th>imdb_votes</th>\n",
       "      <th>tmdb_popularity</th>\n",
       "      <th>tmdb_score</th>\n",
       "    </tr>\n",
       "  </thead>\n",
       "  <tbody>\n",
       "    <tr>\n",
       "      <th>0</th>\n",
       "      <td>tm132164</td>\n",
       "      <td>Bill Hicks: Sane Man</td>\n",
       "      <td>MOVIE</td>\n",
       "      <td>1989</td>\n",
       "      <td>R</td>\n",
       "      <td>81</td>\n",
       "      <td>comedy</td>\n",
       "      <td>US</td>\n",
       "      <td>0</td>\n",
       "      <td>NaN</td>\n",
       "      <td>0.0</td>\n",
       "      <td>0</td>\n",
       "      <td>3.245000</td>\n",
       "      <td>7.5</td>\n",
       "    </tr>\n",
       "    <tr>\n",
       "      <th>1</th>\n",
       "      <td>tm7135</td>\n",
       "      <td>Bill Hicks: One Night Stand</td>\n",
       "      <td>MOVIE</td>\n",
       "      <td>1991</td>\n",
       "      <td>NC-17</td>\n",
       "      <td>30</td>\n",
       "      <td>comedy</td>\n",
       "      <td>US</td>\n",
       "      <td>0</td>\n",
       "      <td>NaN</td>\n",
       "      <td>0.0</td>\n",
       "      <td>0</td>\n",
       "      <td>1.080000</td>\n",
       "      <td>7.5</td>\n",
       "    </tr>\n",
       "    <tr>\n",
       "      <th>2</th>\n",
       "      <td>tm8687</td>\n",
       "      <td>Sam Kinison: Family Entertainment Hour</td>\n",
       "      <td>MOVIE</td>\n",
       "      <td>1991</td>\n",
       "      <td>NaN</td>\n",
       "      <td>49</td>\n",
       "      <td>comedy</td>\n",
       "      <td>US</td>\n",
       "      <td>0</td>\n",
       "      <td>NaN</td>\n",
       "      <td>0.0</td>\n",
       "      <td>0</td>\n",
       "      <td>2.545000</td>\n",
       "      <td>6.0</td>\n",
       "    </tr>\n",
       "    <tr>\n",
       "      <th>3</th>\n",
       "      <td>tm997728</td>\n",
       "      <td>Blade Runner: The Final Cut</td>\n",
       "      <td>MOVIE</td>\n",
       "      <td>2007</td>\n",
       "      <td>R</td>\n",
       "      <td>117</td>\n",
       "      <td>action', 'thriller', 'scifi</td>\n",
       "      <td>US</td>\n",
       "      <td>0</td>\n",
       "      <td>NaN</td>\n",
       "      <td>0.0</td>\n",
       "      <td>0</td>\n",
       "      <td>0.055091</td>\n",
       "      <td>9.0</td>\n",
       "    </tr>\n",
       "    <tr>\n",
       "      <th>4</th>\n",
       "      <td>tm195620</td>\n",
       "      <td>Apocalypse Now Redux</td>\n",
       "      <td>MOVIE</td>\n",
       "      <td>2001</td>\n",
       "      <td>R</td>\n",
       "      <td>196</td>\n",
       "      <td>drama', 'war', 'thriller', 'horror</td>\n",
       "      <td>US</td>\n",
       "      <td>0</td>\n",
       "      <td>NaN</td>\n",
       "      <td>0.0</td>\n",
       "      <td>0</td>\n",
       "      <td>4.147341</td>\n",
       "      <td>9.8</td>\n",
       "    </tr>\n",
       "  </tbody>\n",
       "</table>\n",
       "</div>"
      ],
      "text/plain": [
       "         id                                   title   type  release_year  \\\n",
       "0  tm132164                    Bill Hicks: Sane Man  MOVIE          1989   \n",
       "1    tm7135             Bill Hicks: One Night Stand  MOVIE          1991   \n",
       "2    tm8687  Sam Kinison: Family Entertainment Hour  MOVIE          1991   \n",
       "3  tm997728             Blade Runner: The Final Cut  MOVIE          2007   \n",
       "4  tm195620                    Apocalypse Now Redux  MOVIE          2001   \n",
       "\n",
       "  age_certification  runtime                              genres  \\\n",
       "0                 R       81                              comedy   \n",
       "1             NC-17       30                              comedy   \n",
       "2               NaN       49                              comedy   \n",
       "3                 R      117         action', 'thriller', 'scifi   \n",
       "4                 R      196  drama', 'war', 'thriller', 'horror   \n",
       "\n",
       "  production_countries  seasons imdb_id  imdb_score  imdb_votes  \\\n",
       "0                   US        0     NaN         0.0           0   \n",
       "1                   US        0     NaN         0.0           0   \n",
       "2                   US        0     NaN         0.0           0   \n",
       "3                   US        0     NaN         0.0           0   \n",
       "4                   US        0     NaN         0.0           0   \n",
       "\n",
       "   tmdb_popularity  tmdb_score  \n",
       "0         3.245000         7.5  \n",
       "1         1.080000         7.5  \n",
       "2         2.545000         6.0  \n",
       "3         0.055091         9.0  \n",
       "4         4.147341         9.8  "
      ]
     },
     "execution_count": 58,
     "metadata": {},
     "output_type": "execute_result"
    }
   ],
   "source": [
    "df.head()\n"
   ]
  },
  {
   "cell_type": "code",
   "execution_count": 59,
   "id": "07192494-e774-437e-9109-d00895db9005",
   "metadata": {},
   "outputs": [
    {
     "data": {
      "text/html": [
       "<div>\n",
       "<style scoped>\n",
       "    .dataframe tbody tr th:only-of-type {\n",
       "        vertical-align: middle;\n",
       "    }\n",
       "\n",
       "    .dataframe tbody tr th {\n",
       "        vertical-align: top;\n",
       "    }\n",
       "\n",
       "    .dataframe thead th {\n",
       "        text-align: right;\n",
       "    }\n",
       "</style>\n",
       "<table border=\"1\" class=\"dataframe\">\n",
       "  <thead>\n",
       "    <tr style=\"text-align: right;\">\n",
       "      <th></th>\n",
       "      <th>id</th>\n",
       "      <th>title</th>\n",
       "      <th>type</th>\n",
       "      <th>release_year</th>\n",
       "      <th>age_certification</th>\n",
       "      <th>runtime</th>\n",
       "      <th>genres</th>\n",
       "      <th>production_countries</th>\n",
       "      <th>seasons</th>\n",
       "      <th>imdb_id</th>\n",
       "      <th>imdb_score</th>\n",
       "      <th>imdb_votes</th>\n",
       "      <th>tmdb_popularity</th>\n",
       "      <th>tmdb_score</th>\n",
       "    </tr>\n",
       "  </thead>\n",
       "  <tbody>\n",
       "    <tr>\n",
       "      <th>5801</th>\n",
       "      <td>ts300274</td>\n",
       "      <td>Cooking With Paris</td>\n",
       "      <td>SHOW</td>\n",
       "      <td>2021</td>\n",
       "      <td>TV-MA</td>\n",
       "      <td>23</td>\n",
       "      <td>reality</td>\n",
       "      <td>US</td>\n",
       "      <td>1</td>\n",
       "      <td>tt15036422</td>\n",
       "      <td>5.2</td>\n",
       "      <td>1055</td>\n",
       "      <td>4.166</td>\n",
       "      <td>6.6</td>\n",
       "    </tr>\n",
       "    <tr>\n",
       "      <th>5802</th>\n",
       "      <td>ts293346</td>\n",
       "      <td>Race: Bubba Wallace</td>\n",
       "      <td>SHOW</td>\n",
       "      <td>2022</td>\n",
       "      <td>TV-MA</td>\n",
       "      <td>47</td>\n",
       "      <td>documentation', 'sport</td>\n",
       "      <td>US</td>\n",
       "      <td>1</td>\n",
       "      <td>tt14513646</td>\n",
       "      <td>5.9</td>\n",
       "      <td>402</td>\n",
       "      <td>4.274</td>\n",
       "      <td>5.7</td>\n",
       "    </tr>\n",
       "    <tr>\n",
       "      <th>5803</th>\n",
       "      <td>ts285471</td>\n",
       "      <td>The Wedding Coach</td>\n",
       "      <td>SHOW</td>\n",
       "      <td>2021</td>\n",
       "      <td>TV-MA</td>\n",
       "      <td>32</td>\n",
       "      <td>comedy', 'reality</td>\n",
       "      <td>US</td>\n",
       "      <td>1</td>\n",
       "      <td>tt14210424</td>\n",
       "      <td>4.9</td>\n",
       "      <td>85</td>\n",
       "      <td>0.600</td>\n",
       "      <td>10.0</td>\n",
       "    </tr>\n",
       "    <tr>\n",
       "      <th>5804</th>\n",
       "      <td>ts305732</td>\n",
       "      <td>Metal Shop Masters</td>\n",
       "      <td>SHOW</td>\n",
       "      <td>2021</td>\n",
       "      <td>TV-MA</td>\n",
       "      <td>0</td>\n",
       "      <td>reality</td>\n",
       "      <td>US</td>\n",
       "      <td>1</td>\n",
       "      <td>tt15216520</td>\n",
       "      <td>5.6</td>\n",
       "      <td>546</td>\n",
       "      <td>2.564</td>\n",
       "      <td>6.3</td>\n",
       "    </tr>\n",
       "    <tr>\n",
       "      <th>5805</th>\n",
       "      <td>ts308053</td>\n",
       "      <td>Jailbirds New Orleans</td>\n",
       "      <td>SHOW</td>\n",
       "      <td>2021</td>\n",
       "      <td>TV-MA</td>\n",
       "      <td>41</td>\n",
       "      <td>documentation', 'reality</td>\n",
       "      <td>US</td>\n",
       "      <td>1</td>\n",
       "      <td>tt15320436</td>\n",
       "      <td>6.6</td>\n",
       "      <td>205</td>\n",
       "      <td>1.810</td>\n",
       "      <td>7.0</td>\n",
       "    </tr>\n",
       "  </tbody>\n",
       "</table>\n",
       "</div>"
      ],
      "text/plain": [
       "            id                  title  type  release_year age_certification  \\\n",
       "5801  ts300274     Cooking With Paris  SHOW          2021             TV-MA   \n",
       "5802  ts293346    Race: Bubba Wallace  SHOW          2022             TV-MA   \n",
       "5803  ts285471      The Wedding Coach  SHOW          2021             TV-MA   \n",
       "5804  ts305732     Metal Shop Masters  SHOW          2021             TV-MA   \n",
       "5805  ts308053  Jailbirds New Orleans  SHOW          2021             TV-MA   \n",
       "\n",
       "      runtime                    genres production_countries  seasons  \\\n",
       "5801       23                   reality                   US        1   \n",
       "5802       47    documentation', 'sport                   US        1   \n",
       "5803       32         comedy', 'reality                   US        1   \n",
       "5804        0                   reality                   US        1   \n",
       "5805       41  documentation', 'reality                   US        1   \n",
       "\n",
       "         imdb_id  imdb_score  imdb_votes  tmdb_popularity  tmdb_score  \n",
       "5801  tt15036422         5.2        1055            4.166         6.6  \n",
       "5802  tt14513646         5.9         402            4.274         5.7  \n",
       "5803  tt14210424         4.9          85            0.600        10.0  \n",
       "5804  tt15216520         5.6         546            2.564         6.3  \n",
       "5805  tt15320436         6.6         205            1.810         7.0  "
      ]
     },
     "execution_count": 59,
     "metadata": {},
     "output_type": "execute_result"
    }
   ],
   "source": [
    "df.tail()\n"
   ]
  },
  {
   "cell_type": "code",
   "execution_count": 60,
   "id": "9b4545e0-4207-4b46-b5b4-9c1586b97ea1",
   "metadata": {},
   "outputs": [
    {
     "data": {
      "text/plain": [
       "id                       object\n",
       "title                    object\n",
       "type                     object\n",
       "release_year              int64\n",
       "age_certification        object\n",
       "runtime                   int64\n",
       "genres                   object\n",
       "production_countries     object\n",
       "seasons                   int64\n",
       "imdb_id                  object\n",
       "imdb_score              float64\n",
       "imdb_votes                int64\n",
       "tmdb_popularity         float64\n",
       "tmdb_score              float64\n",
       "dtype: object"
      ]
     },
     "execution_count": 60,
     "metadata": {},
     "output_type": "execute_result"
    }
   ],
   "source": [
    "df.dtypes"
   ]
  },
  {
   "cell_type": "code",
   "execution_count": 13,
   "id": "a8dcc029-900f-4734-992c-b3e90b976842",
   "metadata": {},
   "outputs": [
    {
     "data": {
      "text/plain": [
       "Index(['id', 'title', 'type', 'release_year', 'age_certification', 'runtime',\n",
       "       'genres', 'production_countries', 'seasons', 'imdb_id', 'imdb_score',\n",
       "       'imdb_votes', 'tmdb_popularity', 'tmdb_score'],\n",
       "      dtype='object')"
      ]
     },
     "execution_count": 13,
     "metadata": {},
     "output_type": "execute_result"
    }
   ],
   "source": [
    "df.columns"
   ]
  },
  {
   "cell_type": "code",
   "execution_count": 14,
   "id": "c7580879-cc6d-455e-a8d7-df95ba49d851",
   "metadata": {},
   "outputs": [
    {
     "name": "stdout",
     "output_type": "stream",
     "text": [
      "size of data:  (5806, 14)\n"
     ]
    }
   ],
   "source": [
    "print(\"size of data: \",df.shape)"
   ]
  },
  {
   "cell_type": "code",
   "execution_count": 16,
   "id": "57bb7a5a-858e-46e1-bf89-6494c312ab2a",
   "metadata": {},
   "outputs": [
    {
     "name": "stdout",
     "output_type": "stream",
     "text": [
      "['MOVIE' 'SHOW']\n"
     ]
    }
   ],
   "source": [
    "print(df[\"type\"].unique())"
   ]
  },
  {
   "cell_type": "markdown",
   "id": "dcc3d1dd-da6f-4fb9-b3fb-e22fce92395d",
   "metadata": {},
   "source": [
    "## **Trend Analysis: Plot number of releases per year**"
   ]
  },
  {
   "cell_type": "code",
   "execution_count": 61,
   "id": "a1fd0541-f1da-40cd-8164-dac0cbdc4793",
   "metadata": {},
   "outputs": [
    {
     "data": {
      "text/plain": [
       "<Axes: xlabel='release_year'>"
      ]
     },
     "execution_count": 61,
     "metadata": {},
     "output_type": "execute_result"
    },
    {
     "data": {
      "image/png": "[encoded data removed]",
      "text/plain": [
       "<Figure size 640x480 with 1 Axes>"
      ]
     },
     "metadata": {},
     "output_type": "display_data"
    }
   ],
   "source": [
    "df['release_year'].value_counts().sort_index().plot(kind='line')\n"
   ]
  },
  {
   "cell_type": "markdown",
   "id": "8482593e-a74f-4b94-a500-995aeeff021b",
   "metadata": {},
   "source": [
    "## **Distribution of content types**"
   ]
  },
  {
   "cell_type": "code",
   "execution_count": 56,
   "id": "b4c355bb-cc5e-48ba-ae7e-762d39c72486",
   "metadata": {},
   "outputs": [
    {
     "data": {
      "image/png": "[encoded data removed]",
      "text/plain": [
       "<Figure size 600x600 with 1 Axes>"
      ]
     },
     "metadata": {},
     "output_type": "display_data"
    }
   ],
   "source": [
    "\n",
    "type_counts = df['type'].value_counts()\n",
    "\n",
    "\n",
    "plt.figure(figsize=(6,6))\n",
    "plt.pie(type_counts, labels=type_counts.index, autopct='%1.1f%%', startangle=140)\n",
    "plt.title('Distribution of Types')\n",
    "plt.axis('equal')  \n",
    "plt.show()\n"
   ]
  },
  {
   "cell_type": "markdown",
   "id": "79d9d821-3c10-4e2a-a03e-54f443531e5c",
   "metadata": {},
   "source": [
    "# **Top countries with most content**"
   ]
  },
  {
   "cell_type": "code",
   "execution_count": 44,
   "id": "c6aac87f-ac8d-476a-9b98-1d9f19f8dd98",
   "metadata": {},
   "outputs": [
    {
     "data": {
      "image/png": "[encoded data removed]",
      "text/plain": [
       "<Figure size 1000x600 with 1 Axes>"
      ]
     },
     "metadata": {},
     "output_type": "display_data"
    }
   ],
   "source": [
    "Top_countries = df['production_countries'].dropna().str.split(', ').explode().value_counts().head(10)\n",
    "\n",
    "plt.figure(figsize=(10, 6))  \n",
    "bars = plt.bar(Top_countries.index, Top_countries.values)\n",
    " \n",
    "plt.title('countries with most content')\n",
    "plt.show()"
   ]
  },
  {
   "cell_type": "markdown",
   "id": "03634f42-6f47-45a8-9d30-51114ca490bb",
   "metadata": {},
   "source": [
    "# **Yearly release trends**"
   ]
  },
  {
   "cell_type": "code",
   "execution_count": 53,
   "id": "df93d131-5f44-48a0-a3f5-b28b54585a4e",
   "metadata": {},
   "outputs": [
    {
     "data": {
      "image/png": "[encoded data removed]",
      "text/plain": [
       "<Figure size 1000x600 with 1 Axes>"
      ]
     },
     "metadata": {},
     "output_type": "display_data"
    }
   ],
   "source": [
    "\n",
    "yearly_release_trends = df['release_year'].value_counts().sort_index()\n",
    "\n",
    "\n",
    "plt.figure(figsize=(10,6))\n",
    "bars = plt.bar(yearly_release_trends.index, yearly_release_trends.values)\n",
    "plt.xlabel(\"release_year\")\n",
    "plt.ylabel(\"Number of Releases\")\n",
    "plt.title(\"Content Released by Year\")\n",
    "plt.xticks(rotation=90)\n",
    "plt.show()\n"
   ]
  },
  {
   "cell_type": "code",
   "execution_count": null,
   "id": "d745ecaf-d75f-47ef-a30c-67eff3d97d07",
   "metadata": {},
   "outputs": [],
   "source": []
  },
  {
   "cell_type": "code",
   "execution_count": null,
   "id": "07472029-bfd7-4169-b0fc-de845de3d04d",
   "metadata": {},
   "outputs": [],
   "source": []
  }
 ],
 "metadata": {
  "kernelspec": {
   "display_name": "Python 3 (ipykernel)",
   "language": "python",
   "name": "python3"
  },
  "language_info": {
   "codemirror_mode": {
    "name": "ipython",
    "version": 3
   },
   "file_extension": ".py",
   "mimetype": "text/x-python",
   "name": "python",
   "nbconvert_exporter": "python",
   "pygments_lexer": "ipython3",
   "version": "3.13.3"
  }
 },
 "nbformat": 4,
 "nbformat_minor": 5
}
